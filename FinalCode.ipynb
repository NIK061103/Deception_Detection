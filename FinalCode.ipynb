{
 "cells": [
  {
   "cell_type": "markdown",
   "metadata": {},
   "source": [
    "**PROBLEM** - To classify the EEG signals into deception or truth using Short-Time Fourier Transform(STFT) and Convolution Neural Network(CNN)."
   ]
  },
  {
   "cell_type": "markdown",
   "metadata": {},
   "source": [
    "**OVERVIEW**:\n",
    "\n",
    "The problem and the code has been implemented in following steps:\n",
    "\n",
    "**STEP1**- Annotations file pre-processing; it includes dropping all null values, updating the path of all the EEG.csv files and removing the outliers.\n",
    "\n",
    "**STEP2**- Creating the data; it includes making a numpy ndimensional array of each EEG.csv file, removing non-relevent values, padding the data to minimun length(ie., 3000) and cleaning the data.\n",
    "\n",
    "**STEP3**- Converting the EEG signals into Averaged Spectrogram images using Short-time Fourier Transform(STFT); it includes choosing correct value of hyperparameters(like Window Size, Number of FFT parameters, hop length etc).\n",
    "\n",
    "**STEP4**- Making a 2D-CNN model and fine-tuning it.\n",
    "\n",
    "**STEP5**- Splitting the dataset into Train Test split. Train the dataset.\n",
    "\n",
    "**STEP6**- Evaluation of the Model, plotting Confusion Matrix and ROC curve to show the model's performance."
   ]
  },
  {
   "cell_type": "code",
   "execution_count": 1,
   "metadata": {},
   "outputs": [],
   "source": [
    "import numpy as np\n",
    "import pandas as pd\n",
    "import random as rn\n",
    "import matplotlib.pyplot as plt\n",
    "from sklearn.preprocessing import StandardScaler\n",
    "import librosa\n",
    "import librosa.display\n",
    "from sklearn.model_selection import train_test_split\n",
    "from keras.callbacks import EarlyStopping"
   ]
  },
  {
   "cell_type": "markdown",
   "metadata": {},
   "source": [
    "**Preprocessing the Annotations file**"
   ]
  },
  {
   "cell_type": "code",
   "execution_count": 2,
   "metadata": {},
   "outputs": [],
   "source": [
    "df = pd.read_csv(\"/Users/nikhilrajput/Downloads/ML_DL/deception detection/BagOfLies/Annotations.csv\")"
   ]
  },
  {
   "cell_type": "code",
   "execution_count": 3,
   "metadata": {},
   "outputs": [
    {
     "name": "stdout",
     "output_type": "stream",
     "text": [
      "<class 'pandas.core.frame.DataFrame'>\n",
      "RangeIndex: 325 entries, 0 to 324\n",
      "Data columns (total 7 columns):\n",
      " #   Column   Non-Null Count  Dtype \n",
      "---  ------   --------------  ----- \n",
      " 0   eeg      201 non-null    object\n",
      " 1   gaze     325 non-null    object\n",
      " 2   image    325 non-null    object\n",
      " 3   run      325 non-null    int64 \n",
      " 4   truth    325 non-null    int64 \n",
      " 5   usernum  325 non-null    int64 \n",
      " 6   video    325 non-null    object\n",
      "dtypes: int64(3), object(4)\n",
      "memory usage: 17.9+ KB\n"
     ]
    }
   ],
   "source": [
    "df.info()"
   ]
  },
  {
   "cell_type": "code",
   "execution_count": 4,
   "metadata": {},
   "outputs": [
    {
     "data": {
      "text/plain": [
       "eeg        124\n",
       "gaze         0\n",
       "image        0\n",
       "run          0\n",
       "truth        0\n",
       "usernum      0\n",
       "video        0\n",
       "dtype: int64"
      ]
     },
     "execution_count": 4,
     "metadata": {},
     "output_type": "execute_result"
    }
   ],
   "source": [
    "df.isna().sum()"
   ]
  },
  {
   "cell_type": "code",
   "execution_count": 5,
   "metadata": {},
   "outputs": [],
   "source": [
    "df = df.dropna()"
   ]
  },
  {
   "cell_type": "code",
   "execution_count": 6,
   "metadata": {},
   "outputs": [
    {
     "data": {
      "text/plain": [
       "eeg        0\n",
       "gaze       0\n",
       "image      0\n",
       "run        0\n",
       "truth      0\n",
       "usernum    0\n",
       "video      0\n",
       "dtype: int64"
      ]
     },
     "execution_count": 6,
     "metadata": {},
     "output_type": "execute_result"
    }
   ],
   "source": [
    "df.isna().sum()"
   ]
  },
  {
   "cell_type": "code",
   "execution_count": 7,
   "metadata": {},
   "outputs": [],
   "source": [
    "pathList = df[\"eeg\"].tolist()\n",
    "truthList = df[\"truth\"].tolist()\n",
    "idxList = df.index.tolist()"
   ]
  },
  {
   "cell_type": "code",
   "execution_count": 8,
   "metadata": {},
   "outputs": [],
   "source": [
    "def removeDot(path):\n",
    "    return path[1:]\n"
   ]
  },
  {
   "cell_type": "code",
   "execution_count": 9,
   "metadata": {},
   "outputs": [],
   "source": [
    "lengthList = []\n",
    "for i in range(len(idxList)):\n",
    "    try:\n",
    "        path = '/Users/nikhilrajput/Downloads/ML_DL/deception detection/BagOfLies' + removeDot(pathList[i])\n",
    "        lengthList.append(len(pd.read_csv(path)))\n",
    "    except Exception as e:\n",
    "        continue\n"
   ]
  },
  {
   "cell_type": "markdown",
   "metadata": {},
   "source": [
    "**Plot of file vs length**"
   ]
  },
  {
   "cell_type": "code",
   "execution_count": 10,
   "metadata": {},
   "outputs": [
    {
     "data": {
      "image/png": "[encoded data removed]",
      "text/plain": [
       "<Figure size 640x480 with 1 Axes>"
      ]
     },
     "metadata": {},
     "output_type": "display_data"
    }
   ],
   "source": [
    "plt.scatter([i for i in range(len(idxList)-1)], lengthList)\n",
    "plt.xlabel(\"File No.\")\n",
    "plt.ylabel(\"Size of EEG signal\")\n",
    "plt.show()"
   ]
  },
  {
   "cell_type": "markdown",
   "metadata": {},
   "source": [
    "**REMOVING OUTLIERS**"
   ]
  },
  {
   "cell_type": "code",
   "execution_count": 11,
   "metadata": {},
   "outputs": [],
   "source": [
    "lengthList = []\n",
    "minl = 10000\n",
    "newPathList = []\n",
    "for i in range(len(idxList)):\n",
    "\n",
    "    try:\n",
    "        path = '/Users/nikhilrajput/Downloads/ML_DL/deception detection/BagOfLies' + removeDot(pathList[i])\n",
    "        # print(path)\n",
    "        l = len(pd.read_csv(path))\n",
    "        if l < 100: \n",
    "            df = df.drop(idxList[i])\n",
    "        elif l > 3000:\n",
    "            lengthList.append(3000)\n",
    "            newPathList.append(path)\n",
    "        else: \n",
    "            lengthList.append(l)\n",
    "            newPathList.append(path)\n",
    "        \n",
    "    except Exception as error:\n",
    "        df = df.drop(idxList[i])"
   ]
  },
  {
   "cell_type": "code",
   "execution_count": 12,
   "metadata": {},
   "outputs": [],
   "source": [
    "idxList = df.index.tolist()"
   ]
  },
  {
   "cell_type": "code",
   "execution_count": 13,
   "metadata": {},
   "outputs": [
    {
     "data": {
      "text/plain": [
       "198"
      ]
     },
     "execution_count": 13,
     "metadata": {},
     "output_type": "execute_result"
    }
   ],
   "source": [
    "len(idxList)"
   ]
  },
  {
   "cell_type": "markdown",
   "metadata": {},
   "source": [
    "**After removing/rescaling outliers**"
   ]
  },
  {
   "cell_type": "code",
   "execution_count": 14,
   "metadata": {},
   "outputs": [
    {
     "data": {
      "image/png": "[encoded data removed]",
      "text/plain": [
       "<Figure size 640x480 with 1 Axes>"
      ]
     },
     "metadata": {},
     "output_type": "display_data"
    }
   ],
   "source": [
    "plt.scatter([i for i in range(len(idxList))], lengthList)\n",
    "plt.xlabel(\"File No.\")\n",
    "plt.ylabel(\"Size of EEG signal\")\n",
    "plt.show()"
   ]
  },
  {
   "cell_type": "code",
   "execution_count": 15,
   "metadata": {},
   "outputs": [
    {
     "data": {
      "text/plain": [
       "1334.060606060606"
      ]
     },
     "execution_count": 15,
     "metadata": {},
     "output_type": "execute_result"
    }
   ],
   "source": [
    "np.mean(lengthList)"
   ]
  },
  {
   "cell_type": "code",
   "execution_count": 16,
   "metadata": {},
   "outputs": [],
   "source": [
    "df = df.assign(**{\"fullPath\":newPathList})"
   ]
  },
  {
   "cell_type": "code",
   "execution_count": 17,
   "metadata": {},
   "outputs": [],
   "source": [
    "df.to_csv(\"/Users/nikhilrajput/Downloads/ML_DL/deception detection/BagOfLies/finalAnn.csv\")"
   ]
  },
  {
   "cell_type": "code",
   "execution_count": 18,
   "metadata": {},
   "outputs": [],
   "source": [
    "df = pd.read_csv(\"/Users/nikhilrajput/Downloads/ML_DL/deception detection/BagOfLies/finalAnn.csv\")"
   ]
  },
  {
   "cell_type": "code",
   "execution_count": 19,
   "metadata": {},
   "outputs": [],
   "source": [
    "xdata = []\n",
    "ydata = np.asarray(df[\"truth\"].tolist())"
   ]
  },
  {
   "cell_type": "code",
   "execution_count": 20,
   "metadata": {},
   "outputs": [],
   "source": [
    "EEGlist = pd.read_csv(df[\"fullPath\"].tolist()[0]).columns[1:27].tolist()"
   ]
  },
  {
   "cell_type": "code",
   "execution_count": 21,
   "metadata": {},
   "outputs": [
    {
     "data": {
      "text/plain": [
       "108"
      ]
     },
     "execution_count": 21,
     "metadata": {},
     "output_type": "execute_result"
    }
   ],
   "source": [
    "np.count_nonzero(ydata)"
   ]
  },
  {
   "cell_type": "markdown",
   "metadata": {},
   "source": [
    "SLICING AND PADDING"
   ]
  },
  {
   "cell_type": "code",
   "execution_count": 22,
   "metadata": {},
   "outputs": [],
   "source": [
    "# def func(EEG):\n",
    "#     l = len(EEG)\n",
    "#     if l > 1334:\n",
    "#         return np.array(EEG[:1334], dtype=int)\n",
    "#     else:\n",
    "#         rem = 1334-l\n",
    "#         return np.array(EEG+[0 for i in range(rem)], dtype=int)"
   ]
  },
  {
   "cell_type": "code",
   "execution_count": 23,
   "metadata": {},
   "outputs": [],
   "source": [
    "def func(EEG):\n",
    "    l = len(EEG)\n",
    "    if l > 3000:\n",
    "        return np.array(EEG[:3000], dtype=int)\n",
    "    else:\n",
    "        rem = 3000-l\n",
    "        return np.array(EEG+[0 for i in range(rem)], dtype=int)"
   ]
  },
  {
   "cell_type": "markdown",
   "metadata": {},
   "source": [
    "CREATING THE DATA"
   ]
  },
  {
   "cell_type": "code",
   "execution_count": 24,
   "metadata": {},
   "outputs": [],
   "source": [
    "def create_x_data():\n",
    "    for i in newPathList:\n",
    "        temp = pd.read_csv(i)\n",
    "        temp.fillna(0,inplace=True)\n",
    "        temp.replace(\"-\",0, inplace=True)\n",
    "        oneEEG = []\n",
    "        for j in EEGlist:\n",
    "            try:\n",
    "                oneEEG.append(func(temp[j].tolist()))\n",
    "\n",
    "            except:\n",
    "                print(i)\n",
    "                print(temp[j])\n",
    "        xdata.append(np.transpose(np.array(oneEEG)))\n",
    "    return np.asanyarray(xdata)"
   ]
  },
  {
   "cell_type": "code",
   "execution_count": 25,
   "metadata": {},
   "outputs": [],
   "source": [
    "xdata = create_x_data()"
   ]
  },
  {
   "cell_type": "code",
   "execution_count": 26,
   "metadata": {},
   "outputs": [
    {
     "data": {
      "text/plain": [
       "(198, 3000, 26)"
      ]
     },
     "execution_count": 26,
     "metadata": {},
     "output_type": "execute_result"
    }
   ],
   "source": [
    "xdata.shape"
   ]
  },
  {
   "cell_type": "markdown",
   "metadata": {},
   "source": [
    "NORMALIZING THE DATA"
   ]
  },
  {
   "cell_type": "code",
   "execution_count": 27,
   "metadata": {},
   "outputs": [],
   "source": [
    "# scaler = StandardScaler()\n",
    "# xdata_res = scaler.fit_transform(xdata.reshape(-1, xdata.shape[-1])).reshape(xdata.shape)\n",
    "xdata_res = xdata\n"
   ]
  },
  {
   "cell_type": "markdown",
   "metadata": {},
   "source": [
    "DFT CONVERSION"
   ]
  },
  {
   "cell_type": "code",
   "execution_count": 28,
   "metadata": {},
   "outputs": [],
   "source": [
    "\n",
    "\n",
    "def generate_spectrograms(eeg_data, sr=64, n_fft=512, hop_length=16, win_length=64):\n",
    "    \"\"\"\n",
    "    Generate spectrograms for each EEG channel and average them into a single spectrogram.\n",
    "    \n",
    "    Parameters:\n",
    "    - eeg_data: NumPy array of shape (n_timepoints, n_channels)\n",
    "    - sr: Sampling rate of the EEG data\n",
    "    - n_fft: Number of FFT components\n",
    "    - hop_length: Number of samples between successive frames\n",
    "    - win_length: Each frame of audio is windowed by `window()`. The window will be of length `win_length` and then padded with zeros to match `n_fft`.\n",
    "    \n",
    "    Returns:\n",
    "    - avg_spectrogram: Averaged spectrogram across all channels, shape (freq_bins, time_steps)\n",
    "    \"\"\"\n",
    "    n_timepoints, n_channels = eeg_data.shape\n",
    "    spectrograms = []\n",
    "    for channel in range(n_channels):\n",
    "        # Compute the STFT/spectrogram for each channel\n",
    "        S = np.abs(librosa.stft(eeg_data[:, channel].astype(np.float32), n_fft=n_fft, hop_length=hop_length, win_length=win_length))\n",
    "        spectrograms.append(S)\n",
    "    \n",
    "    # Average the spectrograms across channels\n",
    "    avg_spectrogram = np.mean(spectrograms, axis=0)\n",
    "    \n",
    "    return avg_spectrogram\n",
    "\n"
   ]
  },
  {
   "cell_type": "markdown",
   "metadata": {},
   "source": [
    "**Displaying spectogram of one EEG file**"
   ]
  },
  {
   "cell_type": "code",
   "execution_count": 29,
   "metadata": {},
   "outputs": [
    {
     "name": "stdout",
     "output_type": "stream",
     "text": [
      "122\n",
      "1\n",
      "(257, 188)\n"
     ]
    },
    {
     "data": {
      "image/png": "[encoded data removed]",
      "text/plain": [
       "<Figure size 1000x400 with 2 Axes>"
      ]
     },
     "metadata": {},
     "output_type": "display_data"
    }
   ],
   "source": [
    "# file_no = rn.randint(1, 192)\n",
    "file_no = 122\n",
    "print(file_no)\n",
    "print(ydata[file_no])\n",
    "# Example EEG data of shape (1334, 13)\n",
    "eeg_data = xdata_res[file_no]  # Replace this with your actual EEG data\n",
    "\n",
    "# Generate averaged spectrogram\n",
    "avg_spectrogram = generate_spectrograms(eeg_data)\n",
    "print(avg_spectrogram.shape)\n",
    "\n",
    "# Visualize the averaged spectrogram'\n",
    "\n",
    "plt.figure(figsize=(10, 4))\n",
    "librosa.display.specshow(librosa.amplitude_to_db(avg_spectrogram, ref=np.max), sr=256, hop_length=16, x_axis='time', y_axis='log')\n",
    "plt.colorbar(format='%+2.0f dB')\n",
    "plt.title('Averaged EEG Spectrogram')\n",
    "plt.show()\n"
   ]
  },
  {
   "cell_type": "markdown",
   "metadata": {},
   "source": [
    "**Creating DFT data**"
   ]
  },
  {
   "cell_type": "code",
   "execution_count": 30,
   "metadata": {},
   "outputs": [],
   "source": [
    "def create_dft_data():\n",
    "    dft_data = []\n",
    "    for i in range(xdata_res.shape[0]):\n",
    "        dft_data.append(generate_spectrograms(xdata_res[i]))\n",
    "    return np.asanyarray(dft_data)"
   ]
  },
  {
   "cell_type": "code",
   "execution_count": 31,
   "metadata": {},
   "outputs": [],
   "source": [
    "dft_data = create_dft_data()"
   ]
  },
  {
   "cell_type": "code",
   "execution_count": 32,
   "metadata": {},
   "outputs": [
    {
     "data": {
      "text/plain": [
       "(198, 257, 188)"
      ]
     },
     "execution_count": 32,
     "metadata": {},
     "output_type": "execute_result"
    }
   ],
   "source": [
    "dft_data.shape"
   ]
  },
  {
   "cell_type": "markdown",
   "metadata": {},
   "source": [
    "**Splitting the data into training and testing data**"
   ]
  },
  {
   "cell_type": "code",
   "execution_count": 33,
   "metadata": {},
   "outputs": [],
   "source": [
    "\n",
    "xtrain, xtest, ytrain, ytest = train_test_split(dft_data, ydata, test_size=0.2, stratify=ydata, random_state=32)"
   ]
  },
  {
   "cell_type": "code",
   "execution_count": 34,
   "metadata": {},
   "outputs": [
    {
     "name": "stdout",
     "output_type": "stream",
     "text": [
      "(158, 257, 188)\n",
      "(158,)\n",
      "(40, 257, 188)\n",
      "(40,)\n"
     ]
    }
   ],
   "source": [
    "print(xtrain.shape)\n",
    "print(ytrain.shape)\n",
    "print(xtest.shape)\n",
    "print(ytest.shape)"
   ]
  },
  {
   "cell_type": "markdown",
   "metadata": {},
   "source": [
    "**CREATING 2D CNN MODEL**"
   ]
  },
  {
   "cell_type": "code",
   "execution_count": 35,
   "metadata": {},
   "outputs": [],
   "source": [
    "import tensorflow as tf\n",
    "from keras import layers, models\n",
    "# from keras"
   ]
  },
  {
   "cell_type": "code",
   "execution_count": 36,
   "metadata": {},
   "outputs": [
    {
     "name": "stdout",
     "output_type": "stream",
     "text": [
      "Model: \"sequential\"\n",
      "_________________________________________________________________\n",
      " Layer (type)                Output Shape              Param #   \n",
      "=================================================================\n",
      " conv2d (Conv2D)             (None, 257, 188, 32)      320       \n",
      "                                                                 \n",
      " max_pooling2d (MaxPooling2  (None, 128, 94, 32)       0         \n",
      " D)                                                              \n",
      "                                                                 \n",
      " conv2d_1 (Conv2D)           (None, 128, 94, 64)       18496     \n",
      "                                                                 \n",
      " conv2d_2 (Conv2D)           (None, 128, 94, 64)       36928     \n",
      "                                                                 \n",
      " max_pooling2d_1 (MaxPoolin  (None, 64, 47, 64)        0         \n",
      " g2D)                                                            \n",
      "                                                                 \n",
      " conv2d_3 (Conv2D)           (None, 64, 47, 128)       73856     \n",
      "                                                                 \n",
      " conv2d_4 (Conv2D)           (None, 64, 47, 128)       147584    \n",
      "                                                                 \n",
      " max_pooling2d_2 (MaxPoolin  (None, 32, 23, 128)       0         \n",
      " g2D)                                                            \n",
      "                                                                 \n",
      " conv2d_5 (Conv2D)           (None, 32, 23, 256)       295168    \n",
      "                                                                 \n",
      " conv2d_6 (Conv2D)           (None, 32, 23, 256)       590080    \n",
      "                                                                 \n",
      " max_pooling2d_3 (MaxPoolin  (None, 16, 11, 256)       0         \n",
      " g2D)                                                            \n",
      "                                                                 \n",
      " conv2d_7 (Conv2D)           (None, 16, 11, 512)       1180160   \n",
      "                                                                 \n",
      " conv2d_8 (Conv2D)           (None, 16, 11, 512)       2359808   \n",
      "                                                                 \n",
      " max_pooling2d_4 (MaxPoolin  (None, 8, 5, 512)         0         \n",
      " g2D)                                                            \n",
      "                                                                 \n",
      " flatten (Flatten)           (None, 20480)             0         \n",
      "                                                                 \n",
      " dense (Dense)               (None, 1024)              20972544  \n",
      "                                                                 \n",
      " dense_1 (Dense)             (None, 512)               524800    \n",
      "                                                                 \n",
      " dense_2 (Dense)             (None, 2)                 1026      \n",
      "                                                                 \n",
      "=================================================================\n",
      "Total params: 26200770 (99.95 MB)\n",
      "Trainable params: 26200770 (99.95 MB)\n",
      "Non-trainable params: 0 (0.00 Byte)\n",
      "_________________________________________________________________\n"
     ]
    }
   ],
   "source": [
    "\n",
    "def create_cnn_model(input_shape):\n",
    "    model = models.Sequential()\n",
    "    \n",
    "    # Convolutional layers with padding\n",
    "    model.add(layers.Conv2D(32, (3, 3), activation='relu', padding='same', input_shape=input_shape))\n",
    "    model.add(layers.MaxPooling2D((2, 2)))\n",
    "    model.add(layers.Conv2D(64, (3, 3), activation='relu', padding='same'))\n",
    "    model.add(layers.Conv2D(64, (3, 3), activation='relu', padding='same'))\n",
    "    model.add(layers.MaxPooling2D((2, 2)))\n",
    "    model.add(layers.Conv2D(128, (3, 3), activation='relu', padding='same'))\n",
    "    model.add(layers.Conv2D(128, (3, 3), activation='relu', padding='same'))\n",
    "    model.add(layers.MaxPooling2D((2, 2)))\n",
    "    model.add(layers.Conv2D(256, (3, 3), activation='relu', padding='same'))\n",
    "    model.add(layers.Conv2D(256, (3, 3), activation='relu', padding='same'))\n",
    "    model.add(layers.MaxPooling2D((2, 2)))\n",
    "    model.add(layers.Conv2D(512, (3, 3), activation='relu', padding='same'))\n",
    "    model.add(layers.Conv2D(512, (3, 3), activation='relu', padding='same'))\n",
    "    model.add(layers.MaxPooling2D((2, 2)))\n",
    "    \n",
    "    # Flatten layer to feed into dense layers\n",
    "    model.add(layers.Flatten())\n",
    "    \n",
    "    # Dense layers\n",
    "    model.add(layers.Dense(1024, activation='relu'))\n",
    "    # model.add(layers.Dropout(0.5))\n",
    "    model.add(layers.Dense(512, activation='relu'))\n",
    "    # model.add(layers.Dropout(0.5))\n",
    "    model.add(layers.Dense(2, activation='softmax')) # Output layer with 2 neurons for binary classification\n",
    "    \n",
    "    return model\n",
    "\n",
    "# Create the model\n",
    "input_shape = xtrain.shape[1:]+ (1,)  # assuming grayscale images\n",
    "model = create_cnn_model(input_shape)\n",
    "\n",
    "# Compile the model\n",
    "model.compile(optimizer='adam',\n",
    "              loss='sparse_categorical_crossentropy',\n",
    "              metrics=['accuracy'])\n",
    "\n",
    "# Print the model summary\n",
    "model.summary()\n"
   ]
  },
  {
   "cell_type": "markdown",
   "metadata": {},
   "source": [
    "**Resizing the data**"
   ]
  },
  {
   "cell_type": "code",
   "execution_count": 37,
   "metadata": {},
   "outputs": [],
   "source": [
    "xtrainm = xtrain.reshape(xtrain.shape + (1,))\n",
    "xtestm = xtest.reshape(xtest.shape + (1,))\n",
    "early_stopping = EarlyStopping(monitor='val_loss', min_delta=0.001, patience=10, verbose=1, mode='min', restore_best_weights=True)\n",
    "\n"
   ]
  },
  {
   "cell_type": "markdown",
   "metadata": {},
   "source": [
    "**MODEL TRAINING**"
   ]
  },
  {
   "cell_type": "code",
   "execution_count": 38,
   "metadata": {},
   "outputs": [
    {
     "name": "stdout",
     "output_type": "stream",
     "text": [
      "Epoch 1/100\n",
      "4/4 [==============================] - 9s 2s/step - loss: 2405.3086 - accuracy: 0.5000 - val_loss: 1.2223 - val_accuracy: 0.3438\n",
      "Epoch 2/100\n",
      "4/4 [==============================] - 9s 2s/step - loss: 0.8320 - accuracy: 0.4603 - val_loss: 0.7706 - val_accuracy: 0.3125\n",
      "Epoch 3/100\n",
      "4/4 [==============================] - 9s 2s/step - loss: 0.7221 - accuracy: 0.4603 - val_loss: 0.8124 - val_accuracy: 0.3438\n",
      "Epoch 4/100\n",
      "4/4 [==============================] - 9s 2s/step - loss: 0.7379 - accuracy: 0.4286 - val_loss: 0.6444 - val_accuracy: 0.6562\n",
      "Epoch 5/100\n",
      "4/4 [==============================] - 9s 2s/step - loss: 0.6917 - accuracy: 0.5317 - val_loss: 0.6912 - val_accuracy: 0.4375\n",
      "Epoch 6/100\n",
      "4/4 [==============================] - 10s 2s/step - loss: 0.6998 - accuracy: 0.4762 - val_loss: 0.6610 - val_accuracy: 0.7188\n",
      "Epoch 7/100\n",
      "4/4 [==============================] - 10s 2s/step - loss: 0.6889 - accuracy: 0.5714 - val_loss: 0.6873 - val_accuracy: 0.5312\n",
      "Epoch 8/100\n",
      "4/4 [==============================] - 11s 3s/step - loss: 0.6874 - accuracy: 0.5714 - val_loss: 0.6421 - val_accuracy: 0.7188\n",
      "Epoch 9/100\n",
      "4/4 [==============================] - 12s 3s/step - loss: 0.6890 - accuracy: 0.5476 - val_loss: 0.6786 - val_accuracy: 0.5625\n",
      "Epoch 10/100\n",
      "4/4 [==============================] - 11s 3s/step - loss: 0.6794 - accuracy: 0.5635 - val_loss: 0.6584 - val_accuracy: 0.6562\n",
      "Epoch 11/100\n",
      "4/4 [==============================] - 11s 3s/step - loss: 0.6728 - accuracy: 0.5556 - val_loss: 0.7446 - val_accuracy: 0.5000\n",
      "Epoch 12/100\n",
      "4/4 [==============================] - 12s 3s/step - loss: 0.6977 - accuracy: 0.5794 - val_loss: 0.6558 - val_accuracy: 0.7188\n",
      "Epoch 13/100\n",
      "4/4 [==============================] - 11s 3s/step - loss: 0.6741 - accuracy: 0.5635 - val_loss: 0.6614 - val_accuracy: 0.6250\n",
      "Epoch 14/100\n",
      "4/4 [==============================] - 10s 3s/step - loss: 0.6717 - accuracy: 0.5476 - val_loss: 0.6781 - val_accuracy: 0.5000\n",
      "Epoch 15/100\n",
      "4/4 [==============================] - 10s 3s/step - loss: 0.6642 - accuracy: 0.5476 - val_loss: 0.6648 - val_accuracy: 0.5000\n",
      "Epoch 16/100\n",
      "4/4 [==============================] - 11s 3s/step - loss: 0.6320 - accuracy: 0.6508 - val_loss: 0.7037 - val_accuracy: 0.5000\n",
      "Epoch 17/100\n",
      "4/4 [==============================] - 10s 3s/step - loss: 0.6460 - accuracy: 0.6190 - val_loss: 0.7411 - val_accuracy: 0.4062\n",
      "Epoch 18/100\n",
      "4/4 [==============================] - ETA: 0s - loss: 0.6351 - accuracy: 0.5952Restoring model weights from the end of the best epoch: 8.\n",
      "4/4 [==============================] - 11s 3s/step - loss: 0.6351 - accuracy: 0.5952 - val_loss: 0.6931 - val_accuracy: 0.5938\n",
      "Epoch 18: early stopping\n"
     ]
    },
    {
     "data": {
      "text/plain": [
       "<keras.src.callbacks.History at 0x16c695d80>"
      ]
     },
     "execution_count": 38,
     "metadata": {},
     "output_type": "execute_result"
    }
   ],
   "source": [
    "model.fit(xtrainm, ytrain, batch_size=32, epochs=100, callbacks=[early_stopping], validation_split=0.2)"
   ]
  },
  {
   "cell_type": "markdown",
   "metadata": {},
   "source": [
    "**MODEL TESTING AND EVALUATION**"
   ]
  },
  {
   "cell_type": "code",
   "execution_count": 39,
   "metadata": {},
   "outputs": [
    {
     "name": "stdout",
     "output_type": "stream",
     "text": [
      "2/2 [==============================] - 1s 169ms/step\n"
     ]
    }
   ],
   "source": [
    "ypred = model.predict(xtestm)"
   ]
  },
  {
   "cell_type": "code",
   "execution_count": 40,
   "metadata": {},
   "outputs": [],
   "source": [
    "ytrue = np.argmax(ypred, axis=1)"
   ]
  },
  {
   "cell_type": "code",
   "execution_count": 41,
   "metadata": {},
   "outputs": [
    {
     "data": {
      "text/plain": [
       "array([1, 1, 1, 1, 1, 1, 0, 1, 0, 1, 1, 0, 1, 1, 0, 1, 1, 1, 1, 0, 0, 1,\n",
       "       1, 0, 1, 1, 1, 1, 1, 1, 1, 1, 1, 1, 1, 1, 0, 1, 1, 1])"
      ]
     },
     "execution_count": 41,
     "metadata": {},
     "output_type": "execute_result"
    }
   ],
   "source": [
    "ytrue"
   ]
  },
  {
   "cell_type": "code",
   "execution_count": 42,
   "metadata": {},
   "outputs": [],
   "source": [
    "y_pred_probs = []\n",
    "ytesttrue = []\n",
    "for _ in range(len(ypred)):\n",
    "    if ytrue[_] == 1:\n",
    "        ytesttrue.append(ytest[_])\n",
    "        y_pred_probs.append(max(ypred[_]))"
   ]
  },
  {
   "cell_type": "code",
   "execution_count": 43,
   "metadata": {},
   "outputs": [
    {
     "data": {
      "text/plain": [
       "array([0, 1, 0, 0, 0, 1, 1, 0, 1, 0, 1, 0, 1, 0, 0, 1, 1, 0, 1, 0, 0, 1,\n",
       "       0, 1, 1, 1, 0, 1, 1, 1, 1, 1, 0, 0, 1, 1, 1, 0, 1, 0])"
      ]
     },
     "execution_count": 43,
     "metadata": {},
     "output_type": "execute_result"
    }
   ],
   "source": [
    "ytest"
   ]
  },
  {
   "cell_type": "code",
   "execution_count": 44,
   "metadata": {},
   "outputs": [
    {
     "data": {
      "text/plain": [
       "22"
      ]
     },
     "execution_count": 44,
     "metadata": {},
     "output_type": "execute_result"
    }
   ],
   "source": [
    "np.count_nonzero(ytest)"
   ]
  },
  {
   "cell_type": "markdown",
   "metadata": {},
   "source": [
    "**CONFUSION MATRIX**"
   ]
  },
  {
   "cell_type": "code",
   "execution_count": 45,
   "metadata": {},
   "outputs": [
    {
     "data": {
      "image/png": "[encoded data removed]",
      "text/plain": [
       "<Figure size 400x200 with 2 Axes>"
      ]
     },
     "metadata": {},
     "output_type": "display_data"
    }
   ],
   "source": [
    "from sklearn.metrics import confusion_matrix\n",
    "import seaborn as sns\n",
    "import matplotlib.pyplot as plt\n",
    "\n",
    "# Assuming y_pred contains the predicted labels and y_true contains the true labels (0 or 1)\n",
    "cm = confusion_matrix(ytest, ytrue)\n",
    "\n",
    "# Define class labels\n",
    "class_names = ['Class 0', 'Class 1']\n",
    "\n",
    "# Plot confusion matrix\n",
    "plt.figure(figsize=(4, 2))\n",
    "sns.heatmap(cm, annot=True, cmap='Blues', fmt='g', xticklabels=class_names, yticklabels=class_names)\n",
    "plt.xlabel('Predicted labels')\n",
    "plt.ylabel('True labels')\n",
    "plt.title('Confusion Matrix')\n",
    "plt.show()\n"
   ]
  },
  {
   "cell_type": "markdown",
   "metadata": {},
   "source": [
    "**Loss and Accuracy**"
   ]
  },
  {
   "cell_type": "code",
   "execution_count": 46,
   "metadata": {},
   "outputs": [
    {
     "name": "stdout",
     "output_type": "stream",
     "text": [
      "2/2 [==============================] - 1s 158ms/step - loss: 0.6683 - accuracy: 0.5500\n",
      "Test Accuracy: 0.550000011920929\n"
     ]
    }
   ],
   "source": [
    "loss, accuracy = model.evaluate(xtestm, ytest)\n",
    "print(f\"Test Accuracy: {accuracy}\")"
   ]
  },
  {
   "cell_type": "markdown",
   "metadata": {},
   "source": [
    "**ROC Curve**"
   ]
  },
  {
   "cell_type": "code",
   "execution_count": 47,
   "metadata": {},
   "outputs": [
    {
     "data": {
      "image/png": "[encoded data removed]",
      "text/plain": [
       "<Figure size 640x480 with 1 Axes>"
      ]
     },
     "metadata": {},
     "output_type": "display_data"
    }
   ],
   "source": [
    "from sklearn.metrics import roc_curve, auc\n",
    "import matplotlib.pyplot as plt\n",
    "\n",
    "# Assuming y_pred_probs is the predicted probabilities for the positive class\n",
    "# and y_true contains the true labels (0 or 1)\n",
    "fpr, tpr, thresholds = roc_curve(ytesttrue, y_pred_probs)\n",
    "\n",
    "# Compute the area under the ROC curve\n",
    "roc_auc = auc(fpr, tpr)\n",
    "\n",
    "# Plot the ROC curve\n",
    "plt.figure()\n",
    "plt.plot(fpr, tpr, color='darkorange', lw=2, label='ROC curve (area = %0.2f)' % roc_auc)\n",
    "plt.plot([0, 1], [0, 1], color='navy', lw=2, linestyle='--')\n",
    "plt.xlim([0.0, 1.0])\n",
    "plt.ylim([0.0, 1.05])\n",
    "plt.xlabel('False Positive Rate')\n",
    "plt.ylabel('True Positive Rate')\n",
    "plt.title('Receiver Operating Characteristic (ROC)')\n",
    "plt.legend(loc=\"lower right\")\n",
    "plt.show()\n"
   ]
  }
 ],
 "metadata": {
  "kernelspec": {
   "display_name": "Python 3",
   "language": "python",
   "name": "python3"
  },
  "language_info": {
   "codemirror_mode": {
    "name": "ipython",
    "version": 3
   },
   "file_extension": ".py",
   "mimetype": "text/x-python",
   "name": "python",
   "nbconvert_exporter": "python",
   "pygments_lexer": "ipython3",
   "version": "3.10.6"
  }
 },
 "nbformat": 4,
 "nbformat_minor": 2
}
